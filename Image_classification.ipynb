{
  "nbformat": 4,
  "nbformat_minor": 0,
  "metadata": {
    "colab": {
      "name": "Image_classification.ipynb",
      "provenance": [],
      "collapsed_sections": []
    },
    "kernelspec": {
      "name": "python3",
      "display_name": "Python 3"
    },
    "language_info": {
      "name": "python"
    },
    "accelerator": "GPU"
  },
  "cells": [
    {
      "cell_type": "code",
      "metadata": {
        "colab": {
          "base_uri": "https://localhost:8080/"
        },
        "id": "FAnfKACT4yM0",
        "outputId": "0a36215f-5862-40e9-bf3d-20d93ba8fec3"
      },
      "source": [
        "# from google.colab import drive\n",
        "# drive.mount('/content/drive')"
      ],
      "execution_count": 1,
      "outputs": [
        {
          "output_type": "stream",
          "name": "stdout",
          "text": [
            "Mounted at /content/drive\n"
          ]
        }
      ]
    },
    {
      "cell_type": "code",
      "metadata": {
        "colab": {
          "base_uri": "https://localhost:8080/"
        },
        "id": "MqO-2oqu6uAA",
        "outputId": "eb14b5b6-7128-4116-9b93-0f6b6c7a12c9"
      },
      "source": [
        "%%writefile requirements.txt\n",
        "\n",
        "tensorflow\n",
        "keras\n",
        "split-folders\n",
        "tqdm\n",
        "termcolor\n",
        "colorama\n",
        "sklearn"
      ],
      "execution_count": 2,
      "outputs": [
        {
          "output_type": "stream",
          "name": "stdout",
          "text": [
            "Writing requirements.txt\n"
          ]
        }
      ]
    },
    {
      "cell_type": "code",
      "metadata": {
        "colab": {
          "base_uri": "https://localhost:8080/"
        },
        "id": "1HwpTXqx49cY",
        "outputId": "375de915-e47b-4a71-edb9-4fbb5f26465d"
      },
      "source": [
        "%%writefile iqc_train_model.py\n",
        "\n",
        "import argparse\n",
        "import os\n",
        "import shutil\n",
        "\n",
        "import numpy as np\n",
        "import splitfolders\n",
        "from tqdm import trange\n",
        "from sklearn.utils import shuffle\n",
        "\n",
        "from tensorflow import keras\n",
        "from tensorflow.keras.layers import Conv2D, MaxPool2D, Flatten, Dense, AveragePooling2D, BatchNormalization\n",
        "from keras.preprocessing.image import load_img, img_to_array\n",
        "\n",
        "WD = os.getcwd()\n",
        "CLASSES = ['bad', 'average', 'good']\n",
        "\n",
        "def create_data():\n",
        "    # creating a new folder for every class\n",
        "    if not os.path.exists('data'):\n",
        "        os.mkdir('data')\n",
        "    for c in CLASSES:\n",
        "        if not os.path.exists(os.path.join('data', c)):\n",
        "            os.mkdir(os.path.join('data', c))\n",
        "\n",
        "    # saving all scores in a list\n",
        "    scores = []\n",
        "    with open('scores.txt', 'r') as sc:\n",
        "        for record in sc.readlines():\n",
        "            scores.append(record.split(',')[1].rstrip('\\n'))\n",
        "\n",
        "    # copying the image to the corresponding class folder based on score\n",
        "    images = len(os.listdir('frames'))\n",
        "    if len(os.listdir('data/good')) == 0 and len(os.listdir('data/average')) == 0 and len(os.listdir('data/bad')) == 0:\n",
        "        for image in trange(images):\n",
        "            shutil.copy(f'frames/{image}.png', f'data/{scores[image]}')\n",
        "\n",
        "    # splitting into train, test && validation\n",
        "    splitfolders.ratio('data', output=\"split_data\", seed=1337, ratio=(.8, .1, .1))\n",
        "\n",
        "def preprocess_data():\n",
        "    train_images = []\n",
        "    train_labels = []\n",
        "    test_images = []\n",
        "    test_labels = []\n",
        "\n",
        "    # resize, grayscale, define labels\n",
        "    for c in CLASSES:\n",
        "        for img in os.listdir(f'split_data/train/{c}'):\n",
        "            train_images.append(img_to_array(load_img(f'split_data/train/{c}/' + img, target_size=(256, 256)))[:, :, 0])\n",
        "            train_labels.append(c)\n",
        "\n",
        "    for c in CLASSES:\n",
        "        for img in os.listdir(f'split_data/test/{c}'):\n",
        "            test_images.append(img_to_array(load_img(f'split_data/test/{c}/' + img, target_size=(256, 256)))[:, :, 0])\n",
        "            test_labels.append(c)\n",
        "\n",
        "    # reshape, normalize, one color channel\n",
        "    train_images = np.array(train_images).reshape(len(train_images), 256, 256, 1) / 255\n",
        "    train_labels = np.array(train_labels)\n",
        "    test_images = np.array(test_images).reshape(len(test_images), 256, 256, 1) / 255\n",
        "    test_labels = np.array(test_labels)\n",
        "\n",
        "    # convert train labels to numerical\n",
        "    for i in range(len(train_labels)):\n",
        "        train_labels[i] = CLASSES.index(train_labels[i])\n",
        "    train_labels = train_labels.astype('int32')\n",
        "\n",
        "    # convert test labels to numerical\n",
        "    for i in range(len(test_labels)):\n",
        "        test_labels[i] = CLASSES.index(test_labels[i])\n",
        "    test_labels = test_labels.astype('int32')\n",
        "\n",
        "    train_images, train_labels = shuffle(train_images, train_labels)\n",
        "    test_images, test_labels = shuffle(test_images, test_labels)\n",
        "\n",
        "    return train_images, train_labels, test_images, test_labels\n",
        "\n",
        "def build_model(train_images, train_labels, test_images, test_labels):\n",
        "    model = keras.Sequential()\n",
        "    model.add(Conv2D(64, kernel_size=(3, 3), strides=(1, 1), activation='relu', input_shape=(256, 256, 1)))\n",
        "    model.add(MaxPool2D(pool_size=(2, 2)))\n",
        "    model.add(Conv2D(32, kernel_size=(3, 3), strides=(1, 1), activation='relu'))\n",
        "    model.add(MaxPool2D(pool_size=(2, 2)))\n",
        "    model.add(Flatten())\n",
        "    model.add(Dense(256, activation='relu'))\n",
        "    model.add(Dense(3, activation='softmax'))\n",
        "\n",
        "    model.compile(loss=keras.losses.SparseCategoricalCrossentropy(), metrics=['accuracy'], optimizer='adam')\n",
        "    model.fit(train_images, train_labels, epochs=8, batch_size=128)\n",
        "\n",
        "    model.summary()\n",
        "    model.evaluate(test_images, test_labels, batch_size=64)\n",
        "\n",
        "    return model\n",
        "\n",
        "if __name__ == '__main__':\n",
        "    print('This might take a while..')\n",
        "\n",
        "    # organize images & split folders\n",
        "    create_data()\n",
        "    # preprocess the images\n",
        "    X_train, y_train, X_test, y_test = preprocess_data()\n",
        "    # build the model and train it\n",
        "    \n",
        "    print('Training..')\n",
        "    model = build_model(X_train, y_train, X_test, y_test)\n",
        "\n",
        "    # save model\n",
        "    filepath = './image_quality_classifier'\n",
        "    keras.models.save_model(model, filepath)\n",
        "    print('Model saved!')"
      ],
      "execution_count": 18,
      "outputs": [
        {
          "output_type": "stream",
          "name": "stdout",
          "text": [
            "Overwriting iqc_train_model.py\n"
          ]
        }
      ]
    },
    {
      "cell_type": "code",
      "metadata": {
        "colab": {
          "base_uri": "https://localhost:8080/"
        },
        "id": "ezpfXiMb5_aS",
        "outputId": "885f7a32-9c99-4574-d27c-b09753828322"
      },
      "source": [
        "%%writefile iqc_predict.py\n",
        "\n",
        "import argparse\n",
        "import os\n",
        "import shutil\n",
        "from termcolor import *\n",
        "import colorama\n",
        "colorama.init()\n",
        "\n",
        "import numpy as np\n",
        "import splitfolders\n",
        "from tqdm import trange\n",
        "from keras.preprocessing.image import load_img, img_to_array\n",
        "from tensorflow import keras\n",
        "\n",
        "def arg_parser():\n",
        "    ap = argparse.ArgumentParser()\n",
        "    ap.add_argument(\"-i\", \"--image\", required=True, help=\"input an image\")\n",
        "\n",
        "    return vars(ap.parse_args())\n",
        "\n",
        "def load_model():\n",
        "    filepath = 'image_quality_classifier'\n",
        "    model = keras.models.load_model(filepath, compile=True)\n",
        "    return model\n",
        "\n",
        "def preprocess_input(img):\n",
        "    sample = np.array(img_to_array(load_img(img, target_size=(256, 256)))[:, :, 0])\n",
        "    sample = sample.reshape(1, sample.shape[0], sample.shape[1], 1)\n",
        "    sample /= 255\n",
        "    return sample\n",
        "\n",
        "if __name__ == '__main__':\n",
        "    output_quality = {0: 'bad', 1: 'average', 2:'good'}\n",
        "    model = load_model()\n",
        "    args = arg_parser()\n",
        "    img = preprocess_input(args['image'])\n",
        "    predictions = model.predict(img)\n",
        "    print('Image quality:')\n",
        "    if np.argmax(predictions, axis=1)[0] == 0:\n",
        "        cprint(output_quality[np.argmax(predictions, axis=1)[0]], 'red')\n",
        "    elif np.argmax(predictions, axis=1)[0] == 1:\n",
        "        cprint(output_quality[np.argmax(predictions, axis=1)[0]], 'yellow')\n",
        "    elif np.argmax(predictions, axis=1)[0] == 2:\n",
        "        cprint(output_quality[np.argmax(predictions, axis=1)[0]], 'green')"
      ],
      "execution_count": 4,
      "outputs": [
        {
          "output_type": "stream",
          "name": "stdout",
          "text": [
            "Writing iqc_predict.py\n"
          ]
        }
      ]
    },
    {
      "cell_type": "code",
      "metadata": {
        "id": "31lPrYg86r8x"
      },
      "source": [
        "!pip install -r requirements.txt"
      ],
      "execution_count": null,
      "outputs": []
    },
    {
      "cell_type": "code",
      "metadata": {
        "id": "4yn0ccO76bVy"
      },
      "source": [
        "!python3 iqc_train_model.py"
      ],
      "execution_count": null,
      "outputs": []
    },
    {
      "cell_type": "markdown",
      "metadata": {
        "id": "bqDaOIvkKmXT"
      },
      "source": [
        "Predictions on the 'frames' folder:"
      ]
    },
    {
      "cell_type": "code",
      "metadata": {
        "id": "TCVxP6Wz7Brc",
        "colab": {
          "base_uri": "https://localhost:8080/"
        },
        "outputId": "ddbad3de-38d0-4b54-c04c-c19e7dfe6bfa"
      },
      "source": [
        "!python3 iqc_predict.py --image frames/0.png"
      ],
      "execution_count": 23,
      "outputs": [
        {
          "output_type": "stream",
          "name": "stdout",
          "text": [
            "2021-11-21 15:44:44.898371: W tensorflow/core/common_runtime/gpu/gpu_bfc_allocator.cc:39] Overriding allow_growth setting because the TF_FORCE_GPU_ALLOW_GROWTH environment variable is set. Original config value was 0.\n",
            "Image quality:\n",
            "\u001b[31mbad\u001b[0m\n",
            "\u001b[0m"
          ]
        }
      ]
    },
    {
      "cell_type": "code",
      "metadata": {
        "id": "mANmqBkl7SRk",
        "colab": {
          "base_uri": "https://localhost:8080/"
        },
        "outputId": "a0b94726-1666-4a97-f040-6a792e32da24"
      },
      "source": [
        "!python3 iqc_predict.py --image frames/6.png"
      ],
      "execution_count": 24,
      "outputs": [
        {
          "output_type": "stream",
          "name": "stdout",
          "text": [
            "2021-11-21 15:44:51.770785: W tensorflow/core/common_runtime/gpu/gpu_bfc_allocator.cc:39] Overriding allow_growth setting because the TF_FORCE_GPU_ALLOW_GROWTH environment variable is set. Original config value was 0.\n",
            "Image quality:\n",
            "\u001b[33maverage\u001b[0m\n",
            "\u001b[0m"
          ]
        }
      ]
    },
    {
      "cell_type": "code",
      "metadata": {
        "id": "CTEeiQmE7OZz",
        "colab": {
          "base_uri": "https://localhost:8080/"
        },
        "outputId": "5a56df02-9f57-40e0-88ad-019b3334e709"
      },
      "source": [
        "!python3 iqc_predict.py --image frames/1.png"
      ],
      "execution_count": 22,
      "outputs": [
        {
          "output_type": "stream",
          "name": "stdout",
          "text": [
            "2021-11-21 15:44:38.190112: W tensorflow/core/common_runtime/gpu/gpu_bfc_allocator.cc:39] Overriding allow_growth setting because the TF_FORCE_GPU_ALLOW_GROWTH environment variable is set. Original config value was 0.\n",
            "Image quality:\n",
            "\u001b[32mgood\u001b[0m\n",
            "\u001b[0m"
          ]
        }
      ]
    },
    {
      "cell_type": "markdown",
      "metadata": {
        "id": "X7s5gJRaKs6z"
      },
      "source": [
        "Predictions on images in the validation folder:"
      ]
    },
    {
      "cell_type": "code",
      "metadata": {
        "id": "3MH8irZwKIKt",
        "colab": {
          "base_uri": "https://localhost:8080/"
        },
        "outputId": "7906df8d-66ce-453f-f68d-dc6a1b0ec301"
      },
      "source": [
        "!python3 iqc_predict.py --image split_data/val/bad/120.png"
      ],
      "execution_count": 25,
      "outputs": [
        {
          "output_type": "stream",
          "name": "stdout",
          "text": [
            "2021-11-21 15:45:08.223292: W tensorflow/core/common_runtime/gpu/gpu_bfc_allocator.cc:39] Overriding allow_growth setting because the TF_FORCE_GPU_ALLOW_GROWTH environment variable is set. Original config value was 0.\n",
            "Image quality:\n",
            "\u001b[31mbad\u001b[0m\n",
            "\u001b[0m"
          ]
        }
      ]
    },
    {
      "cell_type": "code",
      "metadata": {
        "id": "YwCaOR0m7UQ0",
        "colab": {
          "base_uri": "https://localhost:8080/"
        },
        "outputId": "f8d79659-ce7d-4576-fe12-6f437506b923"
      },
      "source": [
        "!python3 iqc_predict.py --image split_data/val/average/115.png"
      ],
      "execution_count": 26,
      "outputs": [
        {
          "output_type": "stream",
          "name": "stdout",
          "text": [
            "2021-11-21 15:45:14.766119: W tensorflow/core/common_runtime/gpu/gpu_bfc_allocator.cc:39] Overriding allow_growth setting because the TF_FORCE_GPU_ALLOW_GROWTH environment variable is set. Original config value was 0.\n",
            "Image quality:\n",
            "\u001b[33maverage\u001b[0m\n",
            "\u001b[0m"
          ]
        }
      ]
    },
    {
      "cell_type": "code",
      "metadata": {
        "id": "5UDQgrR_KS6z",
        "colab": {
          "base_uri": "https://localhost:8080/"
        },
        "outputId": "3aafe50e-b8a3-4f9b-e815-8ae312e99d78"
      },
      "source": [
        "!python3 iqc_predict.py --image split_data/val/good/111.png"
      ],
      "execution_count": 27,
      "outputs": [
        {
          "output_type": "stream",
          "name": "stdout",
          "text": [
            "2021-11-21 15:45:21.285732: W tensorflow/core/common_runtime/gpu/gpu_bfc_allocator.cc:39] Overriding allow_growth setting because the TF_FORCE_GPU_ALLOW_GROWTH environment variable is set. Original config value was 0.\n",
            "Image quality:\n",
            "\u001b[32mgood\u001b[0m\n",
            "\u001b[0m"
          ]
        }
      ]
    },
    {
      "cell_type": "code",
      "metadata": {
        "id": "eR07T6NLBgub"
      },
      "source": [
        ""
      ],
      "execution_count": null,
      "outputs": []
    }
  ]
}